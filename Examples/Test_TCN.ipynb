{
 "cells": [
  {
   "cell_type": "code",
   "execution_count": 1,
   "id": "051bc6e8-fc30-412b-bea2-30403f625d20",
   "metadata": {},
   "outputs": [
    {
     "name": "stderr",
     "output_type": "stream",
     "text": [
      "2025-05-06 16:13:51.830932: I tensorflow/core/util/port.cc:153] oneDNN custom operations are on. You may see slightly different numerical results due to floating-point round-off errors from different computation orders. To turn them off, set the environment variable `TF_ENABLE_ONEDNN_OPTS=0`.\n",
      "2025-05-06 16:13:51.841363: E external/local_xla/xla/stream_executor/cuda/cuda_fft.cc:485] Unable to register cuFFT factory: Attempting to register factory for plugin cuFFT when one has already been registered\n",
      "2025-05-06 16:13:51.853953: E external/local_xla/xla/stream_executor/cuda/cuda_dnn.cc:8454] Unable to register cuDNN factory: Attempting to register factory for plugin cuDNN when one has already been registered\n",
      "2025-05-06 16:13:51.857992: E external/local_xla/xla/stream_executor/cuda/cuda_blas.cc:1452] Unable to register cuBLAS factory: Attempting to register factory for plugin cuBLAS when one has already been registered\n",
      "2025-05-06 16:13:51.867827: I tensorflow/core/platform/cpu_feature_guard.cc:210] This TensorFlow binary is optimized to use available CPU instructions in performance-critical operations.\n",
      "To enable the following instructions: SSE4.1 SSE4.2 AVX AVX2 AVX512F AVX512_VNNI AVX512_BF16 FMA, in other operations, rebuild TensorFlow with the appropriate compiler flags.\n"
     ]
    }
   ],
   "source": [
    "import Algos\n",
    "#from Algos import ANN as t\n",
    "#from Algos import PolynomialFeatures as t\n",
    "#from Algos import RandomForest as t\n",
    "#from Algos import RNN as t\n",
    "#from Algos import CausalDiscovery as t\n",
    "from Algos import TCN as t\n",
    "\n",
    "\n",
    "from sklearn.preprocessing import StandardScaler\n",
    "from sklearn.metrics import mean_absolute_error\n",
    "\n",
    "import pandas as pd\n",
    "import numpy as np\n",
    "from matplotlib import pyplot as plt"
   ]
  },
  {
   "cell_type": "code",
   "execution_count": 2,
   "id": "238235c3-2e8d-437e-a5e4-098cf3892c9d",
   "metadata": {},
   "outputs": [],
   "source": [
    "# Read the time series data for a specific building (Building_1) from a CSV file using pandas' read_csv function.\n",
    "# The file likely contains information such as electricity consumption, production, or related metrics for Building 1.\n",
    "#TODO BETTER COMMENTS\n",
    "building1_filepath=\"citylearn_challenge_2023_phase_1/Building_1.csv\"\n",
    "building2_filepath=\"citylearn_challenge_2023_phase_1/Building_2.csv\"\n",
    "building3_filepath=\"citylearn_challenge_2023_phase_1/Building_3.csv\"\n",
    "\n",
    "\n",
    "electricity_data = pd.read_csv(building1_filepath)\n",
    "carbon_data = pd.read_csv(\"citylearn_challenge_2023_phase_1/carbon_intensity.csv\")\n",
    "pricing_data = pd.read_csv(\"citylearn_challenge_2023_phase_1/pricing.csv\")\n",
    "weather_data = pd.read_csv(\"citylearn_challenge_2023_phase_1/weather.csv\")\n",
    "\n",
    "dataframe = pd.concat([electricity_data, carbon_data, pricing_data, weather_data], axis=1)\n",
    "\n",
    "\n",
    "#print(dataframe)\n",
    "\n",
    "target = 'cooling_demand'\n",
    "\n",
    "features = ['month', 'hour', 'day_type', 'daylight_savings_status',\n",
    "            'indoor_dry_bulb_temperature', 'average_unmet_cooling_setpoint_difference', \n",
    "            'indoor_relative_humidity', 'non_shiftable_load', 'dhw_demand', \n",
    "            'heating_demand', 'solar_generation', 'occupant_count', \n",
    "            'indoor_dry_bulb_temperature_set_point', 'hvac_mode', \n",
    "            'carbon_intensity', 'electricity_pricing', \n",
    "            'electricity_pricing_predicted_6h', 'electricity_pricing_predicted_12h', \n",
    "            'electricity_pricing_predicted_24h', 'outdoor_dry_bulb_temperature', \n",
    "            'outdoor_relative_humidity', 'diffuse_solar_irradiance', \n",
    "            'direct_solar_irradiance', 'outdoor_dry_bulb_temperature_predicted_6h', \n",
    "            'outdoor_dry_bulb_temperature_predicted_12h', \n",
    "            'outdoor_dry_bulb_temperature_predicted_24h', \n",
    "            'outdoor_relative_humidity_predicted_6h', \n",
    "            'outdoor_relative_humidity_predicted_12h', \n",
    "            'outdoor_relative_humidity_predicted_24h', \n",
    "            'diffuse_solar_irradiance_predicted_6h', \n",
    "            'diffuse_solar_irradiance_predicted_12h', \n",
    "            'diffuse_solar_irradiance_predicted_24h', \n",
    "            'direct_solar_irradiance_predicted_6h', \n",
    "            'direct_solar_irradiance_predicted_12h', \n",
    "            'direct_solar_irradiance_predicted_24h']\n"
   ]
  },
  {
   "cell_type": "code",
   "execution_count": 3,
   "id": "b7f70181-01de-4bfa-aeef-6b8f4928de65",
   "metadata": {},
   "outputs": [
    {
     "name": "stderr",
     "output_type": "stream",
     "text": [
      "/home/enrico/anaconda3/envs/Casual/lib/python3.10/site-packages/keras/src/layers/convolutional/base_conv.py:107: UserWarning: Do not pass an `input_shape`/`input_dim` argument to a layer. When using Sequential models, prefer using an `Input(shape)` object as the first layer in the model instead.\n",
      "  super().__init__(activity_regularizer=activity_regularizer, **kwargs)\n",
      "WARNING: All log messages before absl::InitializeLog() is called are written to STDERR\n",
      "I0000 00:00:1746540833.951782  108795 cuda_executor.cc:1015] successful NUMA node read from SysFS had negative value (-1), but there must be at least one NUMA node, so returning NUMA node zero. See more at https://github.com/torvalds/linux/blob/v6.0/Documentation/ABI/testing/sysfs-bus-pci#L344-L355\n",
      "I0000 00:00:1746540833.972996  108795 cuda_executor.cc:1015] successful NUMA node read from SysFS had negative value (-1), but there must be at least one NUMA node, so returning NUMA node zero. See more at https://github.com/torvalds/linux/blob/v6.0/Documentation/ABI/testing/sysfs-bus-pci#L344-L355\n",
      "I0000 00:00:1746540833.975519  108795 cuda_executor.cc:1015] successful NUMA node read from SysFS had negative value (-1), but there must be at least one NUMA node, so returning NUMA node zero. See more at https://github.com/torvalds/linux/blob/v6.0/Documentation/ABI/testing/sysfs-bus-pci#L344-L355\n",
      "I0000 00:00:1746540833.979532  108795 cuda_executor.cc:1015] successful NUMA node read from SysFS had negative value (-1), but there must be at least one NUMA node, so returning NUMA node zero. See more at https://github.com/torvalds/linux/blob/v6.0/Documentation/ABI/testing/sysfs-bus-pci#L344-L355\n",
      "I0000 00:00:1746540833.981992  108795 cuda_executor.cc:1015] successful NUMA node read from SysFS had negative value (-1), but there must be at least one NUMA node, so returning NUMA node zero. See more at https://github.com/torvalds/linux/blob/v6.0/Documentation/ABI/testing/sysfs-bus-pci#L344-L355\n",
      "I0000 00:00:1746540833.984296  108795 cuda_executor.cc:1015] successful NUMA node read from SysFS had negative value (-1), but there must be at least one NUMA node, so returning NUMA node zero. See more at https://github.com/torvalds/linux/blob/v6.0/Documentation/ABI/testing/sysfs-bus-pci#L344-L355\n",
      "I0000 00:00:1746540834.092025  108795 cuda_executor.cc:1015] successful NUMA node read from SysFS had negative value (-1), but there must be at least one NUMA node, so returning NUMA node zero. See more at https://github.com/torvalds/linux/blob/v6.0/Documentation/ABI/testing/sysfs-bus-pci#L344-L355\n",
      "I0000 00:00:1746540834.093419  108795 cuda_executor.cc:1015] successful NUMA node read from SysFS had negative value (-1), but there must be at least one NUMA node, so returning NUMA node zero. See more at https://github.com/torvalds/linux/blob/v6.0/Documentation/ABI/testing/sysfs-bus-pci#L344-L355\n",
      "I0000 00:00:1746540834.094685  108795 cuda_executor.cc:1015] successful NUMA node read from SysFS had negative value (-1), but there must be at least one NUMA node, so returning NUMA node zero. See more at https://github.com/torvalds/linux/blob/v6.0/Documentation/ABI/testing/sysfs-bus-pci#L344-L355\n",
      "2025-05-06 16:13:54.095837: I tensorflow/core/common_runtime/gpu/gpu_device.cc:2021] Created device /job:localhost/replica:0/task:0/device:GPU:0 with 1124 MB memory:  -> device: 0, name: NVIDIA GeForce RTX 4060 Laptop GPU, pci bus id: 0000:01:00.0, compute capability: 8.9\n",
      "I0000 00:00:1746540835.283853  108904 service.cc:146] XLA service 0x75aad00158d0 initialized for platform CUDA (this does not guarantee that XLA will be used). Devices:\n",
      "I0000 00:00:1746540835.283875  108904 service.cc:154]   StreamExecutor device (0): NVIDIA GeForce RTX 4060 Laptop GPU, Compute Capability 8.9\n",
      "2025-05-06 16:13:55.307864: I tensorflow/compiler/mlir/tensorflow/utils/dump_mlir_util.cc:268] disabling MLIR crash reproducer, set env var `MLIR_CRASH_REPRODUCER_DIRECTORY` to enable.\n",
      "2025-05-06 16:13:55.417237: I external/local_xla/xla/stream_executor/cuda/cuda_dnn.cc:531] Loaded cuDNN version 90101\n",
      "I0000 00:00:1746540836.899929  108904 device_compiler.h:188] Compiled cluster using XLA!  This line is logged at most once for the lifetime of the process.\n"
     ]
    },
    {
     "name": "stdout",
     "output_type": "stream",
     "text": [
      "\u001b[1m4/4\u001b[0m \u001b[32m━━━━━━━━━━━━━━━━━━━━\u001b[0m\u001b[37m\u001b[0m \u001b[1m0s\u001b[0m 94ms/step \n"
     ]
    }
   ],
   "source": [
    "seed = 7\n",
    "np.random.seed(seed)\n",
    "    \n",
    "#\"parameters\"\n",
    "number_of_entries=-1\n",
    "filters=64\n",
    "kernel_size=3\n",
    "WINDOW_SIZE=168\n",
    "FORECAST_HORIZON=24\n",
    "dense_size=100\n",
    "#end \"parameters\"\n",
    "    \n",
    "#use crete_sliding_window\n",
    "X, y = t.create_sliding_windows(dataframe[target].values, WINDOW_SIZE, FORECAST_HORIZON,number_of_entries)\n",
    "\n",
    "# Split into train and test sets\n",
    "X_train, X_test, y_train, y_test = t.split_train_test(X, y, 0.2, seed)\n",
    "\n",
    "# Scaling the data\n",
    "scaler = StandardScaler()\n",
    "X_train = scaler.fit_transform(X_train.reshape(-1, X_train.shape[-1])).reshape(X_train.shape)\n",
    "X_test = scaler.transform(X_test.reshape(-1, X_test.shape[-1])).reshape(X_test.shape)\n",
    "\n",
    "# Further split the training set into training and validation sets.\n",
    "# 80% of the training data is used for training, and 20% is used for validation.\n",
    "# This helps in tuning hyperparameters and assessing model performance during training.\n",
    "X_train, X_val, y_train, y_val = t.split_train_test(X_train, y_train, 0.2, seed)\n",
    "\n",
    "model = t.create_TCN_model(dense_size, filters, kernel_size,WINDOW_SIZE)\n",
    "\n",
    "model,history = t.Train_TCN_model(X_train,y_train,X_val,y_val,model,features,WINDOW_SIZE,FORECAST_HORIZON)\n",
    "\n",
    "real = y_test\n",
    "pred = t.Predict_TCN_model(model,X_test)"
   ]
  },
  {
   "cell_type": "code",
   "execution_count": 4,
   "id": "6cfd7ae7-a0d8-4eb5-b74f-6fd5bb2c1f3a",
   "metadata": {},
   "outputs": [
    {
     "name": "stdout",
     "output_type": "stream",
     "text": [
      "106\n",
      "106\n"
     ]
    },
    {
     "data": {
      "image/png": "[encoded data removed]",
      "text/plain": [
       "<Figure size 640x480 with 1 Axes>"
      ]
     },
     "metadata": {},
     "output_type": "display_data"
    }
   ],
   "source": [
    "# Plot a scatter plot of the true test data against the predicted values.\n",
    "# - The scatter plot shows the relationship between the actual values and the predicted values.\n",
    "# - The title of the plot displays the Mean Absolute Error (MAE), the Standard Deviation (STD) and the Normalized Mean Absolute Error.\n",
    "print(real.size)\n",
    "print(pred.size)\n",
    "plt.scatter(real, pred)\n",
    "plt.title(r\"MAE = %.2f\" % (mean_absolute_error(real,pred)) + r\" STD = %.2f\" % np.std(real-pred)+ r\" NMAE = %.2f\" % (mean_absolute_error(real,pred)/np.mean(real)))\n",
    "\n",
    "# Plot a reference line where predicted values equal true values (y = x).\n",
    "# This line helps to visualize how well the predicted values match the true values.\n",
    "plt.plot(real, real, 'k-')\n",
    "\n",
    "# Label the x-axis as 'True test data' and the y-axis as 'Predicted test data'.\n",
    "plt.xlabel('True test data')\n",
    "plt.ylabel('Predicted test data')\n",
    "\n",
    "# Display the plot to the user.\n",
    "plt.show()\n",
    "\n"
   ]
  }
 ],
 "metadata": {
  "kernelspec": {
   "display_name": "Python 3 (ipykernel)",
   "language": "python",
   "name": "python3"
  },
  "language_info": {
   "codemirror_mode": {
    "name": "ipython",
    "version": 3
   },
   "file_extension": ".py",
   "mimetype": "text/x-python",
   "name": "python",
   "nbconvert_exporter": "python",
   "pygments_lexer": "ipython3",
   "version": "3.10.16"
  }
 },
 "nbformat": 4,
 "nbformat_minor": 5
}
